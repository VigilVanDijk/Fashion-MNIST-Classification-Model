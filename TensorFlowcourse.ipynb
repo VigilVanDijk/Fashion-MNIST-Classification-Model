{
  "nbformat": 4,
  "nbformat_minor": 0,
  "metadata": {
    "colab": {
      "provenance": []
    },
    "kernelspec": {
      "name": "python3",
      "display_name": "Python 3"
    },
    "language_info": {
      "name": "python"
    }
  },
  "cells": [
    {
      "cell_type": "code",
      "execution_count": null,
      "metadata": {
        "id": "OGEnWFMp4M7h"
      },
      "outputs": [],
      "source": [
        "import tensorflow as tf\n",
        "import numpy as np\n",
        "from tensorflow import keras"
      ]
    },
    {
      "cell_type": "code",
      "source": [
        "model = tf.keras.Sequential([keras.layers.Dense(units=1, input_shape=[1])])"
      ],
      "metadata": {
        "id": "TTN1RqiF4Wmk"
      },
      "execution_count": null,
      "outputs": []
    },
    {
      "cell_type": "code",
      "source": [
        "model.compile(optimizer='sgd', loss='mean_squared_error')"
      ],
      "metadata": {
        "id": "biFKOca2-z_d"
      },
      "execution_count": null,
      "outputs": []
    },
    {
      "cell_type": "code",
      "source": [
        "xs = np.array([-1.0,  0.0, 1.0, 2.0, 3.0, 4.0], dtype=float)\n",
        "ys = np.array([-3.0, -1.0, 1.0, 3.0, 5.0, 7.0], dtype=float)"
      ],
      "metadata": {
        "id": "zXIW0EMy-0fV"
      },
      "execution_count": null,
      "outputs": []
    },
    {
      "cell_type": "code",
      "source": [
        "xs"
      ],
      "metadata": {
        "colab": {
          "base_uri": "https://localhost:8080/"
        },
        "id": "yGFshTF1_Kea",
        "outputId": "90d5a0b6-d099-463b-a996-e6eee4521b4d"
      },
      "execution_count": null,
      "outputs": [
        {
          "output_type": "execute_result",
          "data": {
            "text/plain": [
              "array([-1.,  0.,  1.,  2.,  3.,  4.])"
            ]
          },
          "metadata": {},
          "execution_count": 6
        }
      ]
    },
    {
      "cell_type": "code",
      "source": [
        "xs.dtype"
      ],
      "metadata": {
        "colab": {
          "base_uri": "https://localhost:8080/"
        },
        "id": "sf19-jm__K5V",
        "outputId": "a4419e78-f1e8-42ce-8ff1-c2c4dc2868e3"
      },
      "execution_count": null,
      "outputs": [
        {
          "output_type": "execute_result",
          "data": {
            "text/plain": [
              "dtype('float64')"
            ]
          },
          "metadata": {},
          "execution_count": 7
        }
      ]
    },
    {
      "cell_type": "code",
      "source": [
        "model.fit(xs, ys, epochs=100)"
      ],
      "metadata": {
        "colab": {
          "base_uri": "https://localhost:8080/"
        },
        "id": "6rL2Ct6M_OAF",
        "outputId": "9ebb5a5e-676b-4ee3-865f-07affcc75720"
      },
      "execution_count": null,
      "outputs": [
        {
          "output_type": "stream",
          "name": "stdout",
          "text": [
            "Epoch 1/100\n",
            "1/1 [==============================] - 1s 853ms/step - loss: 0.9233\n",
            "Epoch 2/100\n",
            "1/1 [==============================] - 0s 24ms/step - loss: 0.8516\n",
            "Epoch 3/100\n",
            "1/1 [==============================] - 0s 24ms/step - loss: 0.7926\n",
            "Epoch 4/100\n",
            "1/1 [==============================] - 0s 17ms/step - loss: 0.7436\n",
            "Epoch 5/100\n",
            "1/1 [==============================] - 0s 24ms/step - loss: 0.7027\n",
            "Epoch 6/100\n",
            "1/1 [==============================] - 0s 19ms/step - loss: 0.6680\n",
            "Epoch 7/100\n",
            "1/1 [==============================] - 0s 18ms/step - loss: 0.6384\n",
            "Epoch 8/100\n",
            "1/1 [==============================] - 0s 17ms/step - loss: 0.6128\n",
            "Epoch 9/100\n",
            "1/1 [==============================] - 0s 22ms/step - loss: 0.5903\n",
            "Epoch 10/100\n",
            "1/1 [==============================] - 0s 22ms/step - loss: 0.5705\n",
            "Epoch 11/100\n",
            "1/1 [==============================] - 0s 22ms/step - loss: 0.5526\n",
            "Epoch 12/100\n",
            "1/1 [==============================] - 0s 23ms/step - loss: 0.5365\n",
            "Epoch 13/100\n",
            "1/1 [==============================] - 0s 14ms/step - loss: 0.5217\n",
            "Epoch 14/100\n",
            "1/1 [==============================] - 0s 25ms/step - loss: 0.5080\n",
            "Epoch 15/100\n",
            "1/1 [==============================] - 0s 26ms/step - loss: 0.4953\n",
            "Epoch 16/100\n",
            "1/1 [==============================] - 0s 28ms/step - loss: 0.4832\n",
            "Epoch 17/100\n",
            "1/1 [==============================] - 0s 33ms/step - loss: 0.4719\n",
            "Epoch 18/100\n",
            "1/1 [==============================] - 0s 25ms/step - loss: 0.4610\n",
            "Epoch 19/100\n",
            "1/1 [==============================] - 0s 36ms/step - loss: 0.4507\n",
            "Epoch 20/100\n",
            "1/1 [==============================] - 0s 23ms/step - loss: 0.4407\n",
            "Epoch 21/100\n",
            "1/1 [==============================] - 0s 16ms/step - loss: 0.4311\n",
            "Epoch 22/100\n",
            "1/1 [==============================] - 0s 26ms/step - loss: 0.4218\n",
            "Epoch 23/100\n",
            "1/1 [==============================] - 0s 23ms/step - loss: 0.4128\n",
            "Epoch 24/100\n",
            "1/1 [==============================] - 0s 21ms/step - loss: 0.4041\n",
            "Epoch 25/100\n",
            "1/1 [==============================] - 0s 18ms/step - loss: 0.3956\n",
            "Epoch 26/100\n",
            "1/1 [==============================] - 0s 21ms/step - loss: 0.3873\n",
            "Epoch 27/100\n",
            "1/1 [==============================] - 0s 20ms/step - loss: 0.3792\n",
            "Epoch 28/100\n",
            "1/1 [==============================] - 0s 12ms/step - loss: 0.3713\n",
            "Epoch 29/100\n",
            "1/1 [==============================] - 0s 12ms/step - loss: 0.3636\n",
            "Epoch 30/100\n",
            "1/1 [==============================] - 0s 13ms/step - loss: 0.3560\n",
            "Epoch 31/100\n",
            "1/1 [==============================] - 0s 13ms/step - loss: 0.3487\n",
            "Epoch 32/100\n",
            "1/1 [==============================] - 0s 13ms/step - loss: 0.3415\n",
            "Epoch 33/100\n",
            "1/1 [==============================] - 0s 31ms/step - loss: 0.3344\n",
            "Epoch 34/100\n",
            "1/1 [==============================] - 0s 18ms/step - loss: 0.3275\n",
            "Epoch 35/100\n",
            "1/1 [==============================] - 0s 17ms/step - loss: 0.3208\n",
            "Epoch 36/100\n",
            "1/1 [==============================] - 0s 22ms/step - loss: 0.3142\n",
            "Epoch 37/100\n",
            "1/1 [==============================] - 0s 16ms/step - loss: 0.3077\n",
            "Epoch 38/100\n",
            "1/1 [==============================] - 0s 27ms/step - loss: 0.3014\n",
            "Epoch 39/100\n",
            "1/1 [==============================] - 0s 26ms/step - loss: 0.2952\n",
            "Epoch 40/100\n",
            "1/1 [==============================] - 0s 13ms/step - loss: 0.2891\n",
            "Epoch 41/100\n",
            "1/1 [==============================] - 0s 18ms/step - loss: 0.2832\n",
            "Epoch 42/100\n",
            "1/1 [==============================] - 0s 18ms/step - loss: 0.2774\n",
            "Epoch 43/100\n",
            "1/1 [==============================] - 0s 20ms/step - loss: 0.2717\n",
            "Epoch 44/100\n",
            "1/1 [==============================] - 0s 22ms/step - loss: 0.2661\n",
            "Epoch 45/100\n",
            "1/1 [==============================] - 0s 19ms/step - loss: 0.2606\n",
            "Epoch 46/100\n",
            "1/1 [==============================] - 0s 18ms/step - loss: 0.2553\n",
            "Epoch 47/100\n",
            "1/1 [==============================] - 0s 20ms/step - loss: 0.2500\n",
            "Epoch 48/100\n",
            "1/1 [==============================] - 0s 19ms/step - loss: 0.2449\n",
            "Epoch 49/100\n",
            "1/1 [==============================] - 0s 19ms/step - loss: 0.2398\n",
            "Epoch 50/100\n",
            "1/1 [==============================] - 0s 22ms/step - loss: 0.2349\n",
            "Epoch 51/100\n",
            "1/1 [==============================] - 0s 26ms/step - loss: 0.2301\n",
            "Epoch 52/100\n",
            "1/1 [==============================] - 0s 29ms/step - loss: 0.2254\n",
            "Epoch 53/100\n",
            "1/1 [==============================] - 0s 19ms/step - loss: 0.2207\n",
            "Epoch 54/100\n",
            "1/1 [==============================] - 0s 11ms/step - loss: 0.2162\n",
            "Epoch 55/100\n",
            "1/1 [==============================] - 0s 32ms/step - loss: 0.2118\n",
            "Epoch 56/100\n",
            "1/1 [==============================] - 0s 28ms/step - loss: 0.2074\n",
            "Epoch 57/100\n",
            "1/1 [==============================] - 0s 23ms/step - loss: 0.2032\n",
            "Epoch 58/100\n",
            "1/1 [==============================] - 0s 25ms/step - loss: 0.1990\n",
            "Epoch 59/100\n",
            "1/1 [==============================] - 0s 14ms/step - loss: 0.1949\n",
            "Epoch 60/100\n",
            "1/1 [==============================] - 0s 25ms/step - loss: 0.1909\n",
            "Epoch 61/100\n",
            "1/1 [==============================] - 0s 16ms/step - loss: 0.1870\n",
            "Epoch 62/100\n",
            "1/1 [==============================] - 0s 16ms/step - loss: 0.1831\n",
            "Epoch 63/100\n",
            "1/1 [==============================] - 0s 18ms/step - loss: 0.1794\n",
            "Epoch 64/100\n",
            "1/1 [==============================] - 0s 20ms/step - loss: 0.1757\n",
            "Epoch 65/100\n",
            "1/1 [==============================] - 0s 10ms/step - loss: 0.1721\n",
            "Epoch 66/100\n",
            "1/1 [==============================] - 0s 16ms/step - loss: 0.1685\n",
            "Epoch 67/100\n",
            "1/1 [==============================] - 0s 16ms/step - loss: 0.1651\n",
            "Epoch 68/100\n",
            "1/1 [==============================] - 0s 13ms/step - loss: 0.1617\n",
            "Epoch 69/100\n",
            "1/1 [==============================] - 0s 12ms/step - loss: 0.1584\n",
            "Epoch 70/100\n",
            "1/1 [==============================] - 0s 13ms/step - loss: 0.1551\n",
            "Epoch 71/100\n",
            "1/1 [==============================] - 0s 13ms/step - loss: 0.1519\n",
            "Epoch 72/100\n",
            "1/1 [==============================] - 0s 13ms/step - loss: 0.1488\n",
            "Epoch 73/100\n",
            "1/1 [==============================] - 0s 14ms/step - loss: 0.1457\n",
            "Epoch 74/100\n",
            "1/1 [==============================] - 0s 10ms/step - loss: 0.1428\n",
            "Epoch 75/100\n",
            "1/1 [==============================] - 0s 13ms/step - loss: 0.1398\n",
            "Epoch 76/100\n",
            "1/1 [==============================] - 0s 8ms/step - loss: 0.1370\n",
            "Epoch 77/100\n",
            "1/1 [==============================] - 0s 11ms/step - loss: 0.1341\n",
            "Epoch 78/100\n",
            "1/1 [==============================] - 0s 17ms/step - loss: 0.1314\n",
            "Epoch 79/100\n",
            "1/1 [==============================] - 0s 10ms/step - loss: 0.1287\n",
            "Epoch 80/100\n",
            "1/1 [==============================] - 0s 17ms/step - loss: 0.1260\n",
            "Epoch 81/100\n",
            "1/1 [==============================] - 0s 9ms/step - loss: 0.1235\n",
            "Epoch 82/100\n",
            "1/1 [==============================] - 0s 10ms/step - loss: 0.1209\n",
            "Epoch 83/100\n",
            "1/1 [==============================] - 0s 9ms/step - loss: 0.1184\n",
            "Epoch 84/100\n",
            "1/1 [==============================] - 0s 9ms/step - loss: 0.1160\n",
            "Epoch 85/100\n",
            "1/1 [==============================] - 0s 15ms/step - loss: 0.1136\n",
            "Epoch 86/100\n",
            "1/1 [==============================] - 0s 26ms/step - loss: 0.1113\n",
            "Epoch 87/100\n",
            "1/1 [==============================] - 0s 21ms/step - loss: 0.1090\n",
            "Epoch 88/100\n",
            "1/1 [==============================] - 0s 24ms/step - loss: 0.1068\n",
            "Epoch 89/100\n",
            "1/1 [==============================] - 0s 39ms/step - loss: 0.1046\n",
            "Epoch 90/100\n",
            "1/1 [==============================] - 0s 21ms/step - loss: 0.1024\n",
            "Epoch 91/100\n",
            "1/1 [==============================] - 0s 22ms/step - loss: 0.1003\n",
            "Epoch 92/100\n",
            "1/1 [==============================] - 0s 12ms/step - loss: 0.0983\n",
            "Epoch 93/100\n",
            "1/1 [==============================] - 0s 12ms/step - loss: 0.0962\n",
            "Epoch 94/100\n",
            "1/1 [==============================] - 0s 15ms/step - loss: 0.0943\n",
            "Epoch 95/100\n",
            "1/1 [==============================] - 0s 13ms/step - loss: 0.0923\n",
            "Epoch 96/100\n",
            "1/1 [==============================] - 0s 25ms/step - loss: 0.0904\n",
            "Epoch 97/100\n",
            "1/1 [==============================] - 0s 18ms/step - loss: 0.0886\n",
            "Epoch 98/100\n",
            "1/1 [==============================] - 0s 15ms/step - loss: 0.0867\n",
            "Epoch 99/100\n",
            "1/1 [==============================] - 0s 14ms/step - loss: 0.0850\n",
            "Epoch 100/100\n",
            "1/1 [==============================] - 0s 14ms/step - loss: 0.0832\n"
          ]
        },
        {
          "output_type": "execute_result",
          "data": {
            "text/plain": [
              "<keras.src.callbacks.History at 0x7b23632f2260>"
            ]
          },
          "metadata": {},
          "execution_count": 8
        }
      ]
    },
    {
      "cell_type": "code",
      "source": [
        "a=model.predict([10.0])"
      ],
      "metadata": {
        "colab": {
          "base_uri": "https://localhost:8080/"
        },
        "id": "5tFjPku0_mWD",
        "outputId": "6bbaf5ef-26df-4f47-e099-d48ab545ea57"
      },
      "execution_count": null,
      "outputs": [
        {
          "output_type": "stream",
          "name": "stdout",
          "text": [
            "1/1 [==============================] - 0s 170ms/step\n"
          ]
        }
      ]
    },
    {
      "cell_type": "code",
      "source": [
        "print(a)"
      ],
      "metadata": {
        "colab": {
          "base_uri": "https://localhost:8080/"
        },
        "id": "6HuWkQwO_pQw",
        "outputId": "4a851dfd-d9b7-4a3a-90cd-ce4c7dbd8dc4"
      },
      "execution_count": null,
      "outputs": [
        {
          "output_type": "stream",
          "name": "stdout",
          "text": [
            "[[18.15832]]\n"
          ]
        }
      ]
    },
    {
      "cell_type": "code",
      "source": [
        "fmnist=tf.keras.datasets.fashion_mnist"
      ],
      "metadata": {
        "id": "i1Fk7cQd_qdk"
      },
      "execution_count": null,
      "outputs": []
    },
    {
      "cell_type": "code",
      "source": [
        "(training_images, training_labels) , (test_images, test_labels)=  fmnist.load_data()"
      ],
      "metadata": {
        "colab": {
          "base_uri": "https://localhost:8080/"
        },
        "id": "-Y8k-F9ZHEYX",
        "outputId": "4a1eb81a-0f14-47cb-eaef-b2cfb3161f3b"
      },
      "execution_count": null,
      "outputs": [
        {
          "output_type": "stream",
          "name": "stdout",
          "text": [
            "Downloading data from https://storage.googleapis.com/tensorflow/tf-keras-datasets/train-labels-idx1-ubyte.gz\n",
            "29515/29515 [==============================] - 0s 0us/step\n",
            "Downloading data from https://storage.googleapis.com/tensorflow/tf-keras-datasets/train-images-idx3-ubyte.gz\n",
            "26421880/26421880 [==============================] - 0s 0us/step\n",
            "Downloading data from https://storage.googleapis.com/tensorflow/tf-keras-datasets/t10k-labels-idx1-ubyte.gz\n",
            "5148/5148 [==============================] - 0s 0us/step\n",
            "Downloading data from https://storage.googleapis.com/tensorflow/tf-keras-datasets/t10k-images-idx3-ubyte.gz\n",
            "4422102/4422102 [==============================] - 0s 0us/step\n"
          ]
        }
      ]
    },
    {
      "cell_type": "code",
      "source": [
        "import matplotlib.pyplot as plt\n",
        "index=0\n",
        "np.set_printoptions(linewidth=320)\n",
        "print(f'Label corresponding to the index :{training_labels[index]}')\n",
        "print(f'Pixel array for the Image at the given index is : {training_images[index]}')\n",
        "plt.imshow(training_images[index], cmap='gray')"
      ],
      "metadata": {
        "colab": {
          "base_uri": "https://localhost:8080/",
          "height": 984
        },
        "id": "nrDy4YBwHU4I",
        "outputId": "1c38cc91-7b0e-438d-d450-80d0bed429fb"
      },
      "execution_count": null,
      "outputs": [
        {
          "output_type": "stream",
          "name": "stdout",
          "text": [
            "Label corresponding to the index :9\n",
            "Pixel array for the Image at the given index is : [[  0   0   0   0   0   0   0   0   0   0   0   0   0   0   0   0   0   0   0   0   0   0   0   0   0   0   0   0]\n",
            " [  0   0   0   0   0   0   0   0   0   0   0   0   0   0   0   0   0   0   0   0   0   0   0   0   0   0   0   0]\n",
            " [  0   0   0   0   0   0   0   0   0   0   0   0   0   0   0   0   0   0   0   0   0   0   0   0   0   0   0   0]\n",
            " [  0   0   0   0   0   0   0   0   0   0   0   0   1   0   0  13  73   0   0   1   4   0   0   0   0   1   1   0]\n",
            " [  0   0   0   0   0   0   0   0   0   0   0   0   3   0  36 136 127  62  54   0   0   0   1   3   4   0   0   3]\n",
            " [  0   0   0   0   0   0   0   0   0   0   0   0   6   0 102 204 176 134 144 123  23   0   0   0   0  12  10   0]\n",
            " [  0   0   0   0   0   0   0   0   0   0   0   0   0   0 155 236 207 178 107 156 161 109  64  23  77 130  72  15]\n",
            " [  0   0   0   0   0   0   0   0   0   0   0   1   0  69 207 223 218 216 216 163 127 121 122 146 141  88 172  66]\n",
            " [  0   0   0   0   0   0   0   0   0   1   1   1   0 200 232 232 233 229 223 223 215 213 164 127 123 196 229   0]\n",
            " [  0   0   0   0   0   0   0   0   0   0   0   0   0 183 225 216 223 228 235 227 224 222 224 221 223 245 173   0]\n",
            " [  0   0   0   0   0   0   0   0   0   0   0   0   0 193 228 218 213 198 180 212 210 211 213 223 220 243 202   0]\n",
            " [  0   0   0   0   0   0   0   0   0   1   3   0  12 219 220 212 218 192 169 227 208 218 224 212 226 197 209  52]\n",
            " [  0   0   0   0   0   0   0   0   0   0   6   0  99 244 222 220 218 203 198 221 215 213 222 220 245 119 167  56]\n",
            " [  0   0   0   0   0   0   0   0   0   4   0   0  55 236 228 230 228 240 232 213 218 223 234 217 217 209  92   0]\n",
            " [  0   0   1   4   6   7   2   0   0   0   0   0 237 226 217 223 222 219 222 221 216 223 229 215 218 255  77   0]\n",
            " [  0   3   0   0   0   0   0   0   0  62 145 204 228 207 213 221 218 208 211 218 224 223 219 215 224 244 159   0]\n",
            " [  0   0   0   0  18  44  82 107 189 228 220 222 217 226 200 205 211 230 224 234 176 188 250 248 233 238 215   0]\n",
            " [  0  57 187 208 224 221 224 208 204 214 208 209 200 159 245 193 206 223 255 255 221 234 221 211 220 232 246   0]\n",
            " [  3 202 228 224 221 211 211 214 205 205 205 220 240  80 150 255 229 221 188 154 191 210 204 209 222 228 225   0]\n",
            " [ 98 233 198 210 222 229 229 234 249 220 194 215 217 241  65  73 106 117 168 219 221 215 217 223 223 224 229  29]\n",
            " [ 75 204 212 204 193 205 211 225 216 185 197 206 198 213 240 195 227 245 239 223 218 212 209 222 220 221 230  67]\n",
            " [ 48 203 183 194 213 197 185 190 194 192 202 214 219 221 220 236 225 216 199 206 186 181 177 172 181 205 206 115]\n",
            " [  0 122 219 193 179 171 183 196 204 210 213 207 211 210 200 196 194 191 195 191 198 192 176 156 167 177 210  92]\n",
            " [  0   0  74 189 212 191 175 172 175 181 185 188 189 188 193 198 204 209 210 210 211 188 188 194 192 216 170   0]\n",
            " [  2   0   0   0  66 200 222 237 239 242 246 243 244 221 220 193 191 179 182 182 181 176 166 168  99  58   0   0]\n",
            " [  0   0   0   0   0   0   0  40  61  44  72  41  35   0   0   0   0   0   0   0   0   0   0   0   0   0   0   0]\n",
            " [  0   0   0   0   0   0   0   0   0   0   0   0   0   0   0   0   0   0   0   0   0   0   0   0   0   0   0   0]\n",
            " [  0   0   0   0   0   0   0   0   0   0   0   0   0   0   0   0   0   0   0   0   0   0   0   0   0   0   0   0]]\n"
          ]
        },
        {
          "output_type": "execute_result",
          "data": {
            "text/plain": [
              "<matplotlib.image.AxesImage at 0x7b23628f10c0>"
            ]
          },
          "metadata": {},
          "execution_count": 13
        },
        {
          "output_type": "display_data",
          "data": {
            "text/plain": [
              "<Figure size 640x480 with 1 Axes>"
            ],
            "image/png": "[encoded data removed]"
          },
          "metadata": {}
        }
      ]
    },
    {
      "cell_type": "code",
      "source": [
        "training_images  = training_images / 255.0\n",
        "test_images = test_images / 255.0"
      ],
      "metadata": {
        "id": "S-r0BI98IFwv"
      },
      "execution_count": null,
      "outputs": []
    },
    {
      "cell_type": "code",
      "source": [
        "model = tf.keras.models.Sequential([tf.keras.layers.Flatten(),\n",
        "                                    tf.keras.layers.Dense(512, activation=tf.nn.relu),\n",
        "                                    tf.keras.layers.Dense(10, activation=tf.nn.softmax)])"
      ],
      "metadata": {
        "id": "kV4naUV1I2hW"
      },
      "execution_count": null,
      "outputs": []
    },
    {
      "cell_type": "code",
      "source": [
        "model.compile(optimizer = tf.optimizers.Adam(),\n",
        "              loss = 'sparse_categorical_crossentropy',\n",
        "              metrics=['accuracy'])\n",
        "\n",
        "model.fit(training_images, training_labels, epochs=9)"
      ],
      "metadata": {
        "colab": {
          "base_uri": "https://localhost:8080/"
        },
        "id": "26QTDjKkI_p2",
        "outputId": "c70aca16-4700-41db-ecd1-1de057c02df3"
      },
      "execution_count": null,
      "outputs": [
        {
          "output_type": "stream",
          "name": "stdout",
          "text": [
            "Epoch 1/9\n",
            "1875/1875 [==============================] - 14s 7ms/step - loss: 0.4749 - accuracy: 0.8296\n",
            "Epoch 2/9\n",
            "1875/1875 [==============================] - 15s 8ms/step - loss: 0.3584 - accuracy: 0.8698\n",
            "Epoch 3/9\n",
            "1875/1875 [==============================] - 13s 7ms/step - loss: 0.3209 - accuracy: 0.8816\n",
            "Epoch 4/9\n",
            "1875/1875 [==============================] - 13s 7ms/step - loss: 0.2976 - accuracy: 0.8898\n",
            "Epoch 5/9\n",
            "1875/1875 [==============================] - 15s 8ms/step - loss: 0.2829 - accuracy: 0.8951\n",
            "Epoch 6/9\n",
            "1875/1875 [==============================] - 13s 7ms/step - loss: 0.2633 - accuracy: 0.9029\n",
            "Epoch 7/9\n",
            "1875/1875 [==============================] - 13s 7ms/step - loss: 0.2536 - accuracy: 0.9057\n",
            "Epoch 8/9\n",
            "1875/1875 [==============================] - 13s 7ms/step - loss: 0.2408 - accuracy: 0.9106\n",
            "Epoch 9/9\n",
            "1875/1875 [==============================] - 13s 7ms/step - loss: 0.2325 - accuracy: 0.9137\n"
          ]
        },
        {
          "output_type": "execute_result",
          "data": {
            "text/plain": [
              "<keras.src.callbacks.History at 0x7b23618bde10>"
            ]
          },
          "metadata": {},
          "execution_count": 16
        }
      ]
    },
    {
      "cell_type": "code",
      "source": [
        "model.evaluate(test_images, test_labels)"
      ],
      "metadata": {
        "colab": {
          "base_uri": "https://localhost:8080/"
        },
        "id": "aPD7cfTyJi_P",
        "outputId": "cf3ee80b-a324-46e5-fe23-5d3375ffba3c"
      },
      "execution_count": null,
      "outputs": [
        {
          "output_type": "stream",
          "name": "stdout",
          "text": [
            "313/313 [==============================] - 1s 3ms/step - loss: 0.3242 - accuracy: 0.8866\n"
          ]
        },
        {
          "output_type": "execute_result",
          "data": {
            "text/plain": [
              "[0.3242139220237732, 0.8866000175476074]"
            ]
          },
          "metadata": {},
          "execution_count": 17
        }
      ]
    },
    {
      "cell_type": "code",
      "source": [
        "predictions= model.predict(test_images)"
      ],
      "metadata": {
        "colab": {
          "base_uri": "https://localhost:8080/"
        },
        "id": "6FTx0_KzKX3_",
        "outputId": "6605da43-48d6-49d9-a652-885e061298ea"
      },
      "execution_count": null,
      "outputs": [
        {
          "output_type": "stream",
          "name": "stdout",
          "text": [
            "313/313 [==============================] - 1s 3ms/step\n"
          ]
        }
      ]
    },
    {
      "cell_type": "code",
      "source": [
        "print(predictions[0])"
      ],
      "metadata": {
        "colab": {
          "base_uri": "https://localhost:8080/"
        },
        "id": "-0CBuq7WLL6D",
        "outputId": "c2326e9d-aa72-4cbc-ac75-04c4688de046"
      },
      "execution_count": null,
      "outputs": [
        {
          "output_type": "stream",
          "name": "stdout",
          "text": [
            "[5.0320818e-07 8.4057877e-10 1.3090545e-10 1.2434356e-12 4.4284573e-10 1.2386142e-04 1.5684840e-08 1.7123688e-02 3.8627165e-10 9.8275185e-01]\n"
          ]
        }
      ]
    },
    {
      "cell_type": "code",
      "source": [
        "class myCallback(tf.keras.callbacks.Callback):\n",
        "  def on_epoch_end(self, epoch, logs={}):\n",
        "\n",
        "    if(logs.get('loss') < 0.30):\n",
        "\n",
        "      print(\"\\nLoss is lower than 0.4 so cancelling training!\")\n",
        "      self.model.stop_training = True\n",
        "\n",
        "callbacks= myCallback()"
      ],
      "metadata": {
        "id": "4Z8evGaLLOUn"
      },
      "execution_count": null,
      "outputs": []
    },
    {
      "cell_type": "code",
      "source": [
        "\n",
        "model = tf.keras.models.Sequential([\n",
        "\n",
        "  tf.keras.layers.Conv2D(32, (3,3), activation='relu', input_shape=(28, 28, 1)),\n",
        "  tf.keras.layers.MaxPooling2D(2, 2),\n",
        "  tf.keras.layers.Conv2D(32, (3,3), activation='relu'),\n",
        "  tf.keras.layers.MaxPooling2D(2,2),\n",
        "\n",
        "  tf.keras.layers.Flatten(input_shape=(28, 28)),\n",
        "  tf.keras.layers.Dense(512, activation=tf.nn.relu),\n",
        "  tf.keras.layers.Dense(10, activation=tf.nn.softmax)\n",
        "])\n",
        "\n",
        "model.compile(optimizer=tf.optimizers.Adam(),\n",
        "              loss='sparse_categorical_crossentropy',\n",
        "              metrics=['accuracy'])"
      ],
      "metadata": {
        "id": "07fnYBna5j_m"
      },
      "execution_count": null,
      "outputs": []
    },
    {
      "cell_type": "code",
      "source": [
        "model.fit(training_images, training_labels, epochs=9)"
      ],
      "metadata": {
        "colab": {
          "base_uri": "https://localhost:8080/"
        },
        "id": "O8R_yc0L6Ert",
        "outputId": "feaef256-2409-4aa1-9ca8-4eb8059b374e"
      },
      "execution_count": null,
      "outputs": [
        {
          "output_type": "stream",
          "name": "stdout",
          "text": [
            "Epoch 1/9\n",
            "1875/1875 [==============================] - 51s 26ms/step - loss: 0.4427 - accuracy: 0.8376\n",
            "Epoch 2/9\n",
            "1875/1875 [==============================] - 49s 26ms/step - loss: 0.2991 - accuracy: 0.8900\n",
            "Epoch 3/9\n",
            "1875/1875 [==============================] - 50s 27ms/step - loss: 0.2520 - accuracy: 0.9073\n",
            "Epoch 4/9\n",
            "1875/1875 [==============================] - 49s 26ms/step - loss: 0.2209 - accuracy: 0.9173\n",
            "Epoch 5/9\n",
            "1875/1875 [==============================] - 47s 25ms/step - loss: 0.1937 - accuracy: 0.9275\n",
            "Epoch 6/9\n",
            "1875/1875 [==============================] - 49s 26ms/step - loss: 0.1700 - accuracy: 0.9363\n",
            "Epoch 7/9\n",
            "1875/1875 [==============================] - 49s 26ms/step - loss: 0.1481 - accuracy: 0.9443\n",
            "Epoch 8/9\n",
            "1875/1875 [==============================] - 49s 26ms/step - loss: 0.1286 - accuracy: 0.9513\n",
            "Epoch 9/9\n",
            "1875/1875 [==============================] - 51s 27ms/step - loss: 0.1108 - accuracy: 0.9574\n"
          ]
        },
        {
          "output_type": "execute_result",
          "data": {
            "text/plain": [
              "<keras.src.callbacks.History at 0x7b23616e62c0>"
            ]
          },
          "metadata": {},
          "execution_count": 22
        }
      ]
    },
    {
      "cell_type": "code",
      "source": [
        "test_loss = model.evaluate(test_images, test_labels)"
      ],
      "metadata": {
        "colab": {
          "base_uri": "https://localhost:8080/"
        },
        "id": "3l4vdQiA1GRj",
        "outputId": "63cb7462-89f6-4eba-d079-0701c182112f"
      },
      "execution_count": null,
      "outputs": [
        {
          "output_type": "stream",
          "name": "stdout",
          "text": [
            "313/313 [==============================] - 3s 8ms/step - loss: 0.3259 - accuracy: 0.8975\n"
          ]
        }
      ]
    },
    {
      "cell_type": "code",
      "source": [
        "predictions= model.predict(test_images)"
      ],
      "metadata": {
        "colab": {
          "base_uri": "https://localhost:8080/"
        },
        "id": "He1OUTxIXP9v",
        "outputId": "5995b603-4cfc-4e4b-8d72-11120982486e"
      },
      "execution_count": null,
      "outputs": [
        {
          "output_type": "stream",
          "name": "stdout",
          "text": [
            "313/313 [==============================] - 2s 7ms/step\n"
          ]
        }
      ]
    },
    {
      "cell_type": "code",
      "source": [
        "print(len(predictions))"
      ],
      "metadata": {
        "colab": {
          "base_uri": "https://localhost:8080/"
        },
        "id": "ZnORlQqGXQOj",
        "outputId": "c51b24e6-cc72-4b99-d187-75796a8f9d5f"
      },
      "execution_count": null,
      "outputs": [
        {
          "output_type": "stream",
          "name": "stdout",
          "text": [
            "10000\n"
          ]
        }
      ]
    },
    {
      "cell_type": "code",
      "source": [
        "print(max(predictions[3]))"
      ],
      "metadata": {
        "colab": {
          "base_uri": "https://localhost:8080/"
        },
        "id": "PBhAguUNZz4j",
        "outputId": "5fb3cfcc-c3b3-470b-b083-224027f98236"
      },
      "execution_count": null,
      "outputs": [
        {
          "output_type": "stream",
          "name": "stdout",
          "text": [
            "0.99999994\n"
          ]
        }
      ]
    },
    {
      "cell_type": "code",
      "source": [
        "val= int(input(\"enter the image number\"))\n",
        "for x in range (len(predictions[val-1])):\n",
        "    if(predictions[val-1][x]==max(predictions[val-1])):\n",
        "      if(x==0):\n",
        "        print(\"The image is of a T-Shirt/Top\")\n",
        "      if(x==1):\n",
        "        print(\"The image is of a Trouser\")\n",
        "      if(x==2):\n",
        "        print(\"The image is of a Pullover\")\n",
        "      if(x==3):\n",
        "        print(\"The image is of a Dress\")\n",
        "      if(x==4):\n",
        "        print(\"The image is of a Coat\")\n",
        "      if(x==5):\n",
        "        print(\"The image is of a Sandal\")\n",
        "      if(x==6):\n",
        "        print(\"The image is of a Shirt\")\n",
        "      if(x==7):\n",
        "        print(\"The image is of a Sneaker\")\n",
        "      if(x==8):\n",
        "        print(\"The image is of a Bag\")\n",
        "      if(x==9):\n",
        "        print(\"The image is of a Ankle Boot\")"
      ],
      "metadata": {
        "colab": {
          "base_uri": "https://localhost:8080/"
        },
        "id": "shD-zZb3Z7jz",
        "outputId": "28b518fc-ab19-49c8-eea9-ae65c1ce5498"
      },
      "execution_count": null,
      "outputs": [
        {
          "output_type": "stream",
          "name": "stdout",
          "text": [
            "enter the image number 2863\n",
            "The image is of a Sneaker\n"
          ]
        }
      ]
    },
    {
      "cell_type": "markdown",
      "source": [
        "0 T-shirt/top\n",
        "1 Trouser\n",
        "2 Pullover\n",
        "3 Dress\n",
        "4 Coat\n",
        "5 Sandal\n",
        "6 Shirt\n",
        "7 Sneaker\n",
        "8 Bag\n",
        "9 Ankle boot"
      ],
      "metadata": {
        "id": "Rv1bfqE4a4ya"
      }
    }
  ]
}